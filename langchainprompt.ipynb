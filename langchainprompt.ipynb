{
  "nbformat": 4,
  "nbformat_minor": 0,
  "metadata": {
    "colab": {
      "provenance": [],
      "authorship_tag": "ABX9TyOeTTeHXQoBY2OfKZHSp59i",
      "include_colab_link": true
    },
    "kernelspec": {
      "name": "python3",
      "display_name": "Python 3"
    },
    "language_info": {
      "name": "python"
    }
  },
  "cells": [
    {
      "cell_type": "markdown",
      "metadata": {
        "id": "view-in-github",
        "colab_type": "text"
      },
      "source": [
        "<a href=\"https://colab.research.google.com/github/srinithi5/Genai_Apex/blob/main/langchainprompt.ipynb\" target=\"_parent\"><img src=\"https://colab.research.google.com/assets/colab-badge.svg\" alt=\"Open In Colab\"/></a>"
      ]
    },
    {
      "cell_type": "code",
      "execution_count": 1,
      "metadata": {
        "id": "FWu4MFshOiMZ"
      },
      "outputs": [],
      "source": [
        "from langchain.prompts import PromptTemplate"
      ]
    },
    {
      "cell_type": "code",
      "source": [
        "%pip install --upgrade --quiet langchain-google-genai"
      ],
      "metadata": {
        "id": "cRgqyyCKO4ty",
        "colab": {
          "base_uri": "https://localhost:8080/"
        },
        "outputId": "3747bde8-a7d9-486a-d452-1cad7a6f3005"
      },
      "execution_count": 2,
      "outputs": [
        {
          "output_type": "stream",
          "name": "stdout",
          "text": [
            "\u001b[?25l   \u001b[90m━━━━━━━━━━━━━━━━━━━━━━━━━━━━━━━━━━━━━━━━\u001b[0m \u001b[32m0.0/41.3 kB\u001b[0m \u001b[31m?\u001b[0m eta \u001b[36m-:--:--\u001b[0m\r\u001b[2K   \u001b[90m━━━━━━━━━━━━━━━━━━━━━━━━━━━━━━━━━━━━━━━━\u001b[0m \u001b[32m41.3/41.3 kB\u001b[0m \u001b[31m2.1 MB/s\u001b[0m eta \u001b[36m0:00:00\u001b[0m\n",
            "\u001b[?25h"
          ]
        }
      ]
    },
    {
      "cell_type": "code",
      "source": [
        "from langchain_google_genai import GoogleGenerativeAI"
      ],
      "metadata": {
        "id": "R4-K7nX7Pihw"
      },
      "execution_count": 3,
      "outputs": []
    },
    {
      "cell_type": "code",
      "source": [
        "from google.colab import userdata\n",
        "key=userdata.get('google_api_key')"
      ],
      "metadata": {
        "id": "GkZPLMpYQnWr"
      },
      "execution_count": 8,
      "outputs": []
    },
    {
      "cell_type": "code",
      "source": [
        "model=GoogleGenerativeAI(model=\"gemini-pro\",google_api_key=key)"
      ],
      "metadata": {
        "id": "laOCRmFJRZl4"
      },
      "execution_count": 9,
      "outputs": []
    },
    {
      "cell_type": "code",
      "source": [
        "demo_template=\"\"\" write a {language} function to perform sum of of  n numbers \"\"\""
      ],
      "metadata": {
        "id": "nqym6nHdTNWO"
      },
      "execution_count": 14,
      "outputs": []
    },
    {
      "cell_type": "code",
      "source": [
        "prompt=PromptTemplate(input_variables=[\"language\"],template=demo_template)"
      ],
      "metadata": {
        "id": "VxCmWgrXTW06"
      },
      "execution_count": 15,
      "outputs": []
    },
    {
      "cell_type": "code",
      "source": [
        "prompt.format(language=\"python\")"
      ],
      "metadata": {
        "colab": {
          "base_uri": "https://localhost:8080/",
          "height": 35
        },
        "id": "AflzIi1DTXWU",
        "outputId": "f554985e-9f67-480c-8090-2846c5e16b41"
      },
      "execution_count": 16,
      "outputs": [
        {
          "output_type": "execute_result",
          "data": {
            "text/plain": [
              "' write a python function to perform sum of of  n numbers '"
            ],
            "application/vnd.google.colaboratory.intrinsic+json": {
              "type": "string"
            }
          },
          "metadata": {},
          "execution_count": 16
        }
      ]
    },
    {
      "cell_type": "code",
      "source": [
        "demo_template=\"\"\" you are an expert in {programming}.{query} \"\"\""
      ],
      "metadata": {
        "id": "oRk4ov6yUF5i"
      },
      "execution_count": 17,
      "outputs": []
    },
    {
      "cell_type": "code",
      "source": [
        "prompt=PromptTemplate(input_variables=[\"programming\",\"query\"],template=demo_template)"
      ],
      "metadata": {
        "id": "qDr9yAPPUGN9"
      },
      "execution_count": 18,
      "outputs": []
    },
    {
      "cell_type": "code",
      "source": [
        "prompt_text=prompt.format(programming=\"python\",query=\"write a function to perform sum of n numbers\")"
      ],
      "metadata": {
        "id": "u38D78ptUGi_"
      },
      "execution_count": 22,
      "outputs": []
    },
    {
      "cell_type": "code",
      "source": [
        "res=model.invoke(prompt_text)"
      ],
      "metadata": {
        "id": "hs1aczHLVFcQ"
      },
      "execution_count": 23,
      "outputs": []
    },
    {
      "cell_type": "code",
      "source": [
        "print(res)"
      ],
      "metadata": {
        "colab": {
          "base_uri": "https://localhost:8080/"
        },
        "id": "oUWI1HM0VK2s",
        "outputId": "c21bc3ab-df7a-49fe-f5f5-cc4a2ee0636e"
      },
      "execution_count": 24,
      "outputs": [
        {
          "output_type": "stream",
          "name": "stdout",
          "text": [
            "```python\n",
            "def sum_of_n_numbers(n):\n",
            "  \"\"\"\n",
            "  Returns the sum of the first n natural numbers.\n",
            "\n",
            "  Args:\n",
            "    n: The number of natural numbers to sum.\n",
            "\n",
            "  Returns:\n",
            "    The sum of the first n natural numbers.\n",
            "  \"\"\"\n",
            "\n",
            "  if n <= 0:\n",
            "    return 0\n",
            "\n",
            "  # Use the formula for the sum of an arithmetic series.\n",
            "  return (n * (n + 1)) // 2\n",
            "```\n"
          ]
        }
      ]
    },
    {
      "cell_type": "code",
      "source": [
        "res=model.invoke(\"write a java function to perform sum of of  n numbers\")"
      ],
      "metadata": {
        "id": "1YqQ8gw_Rnq_"
      },
      "execution_count": 12,
      "outputs": []
    },
    {
      "cell_type": "code",
      "source": [
        "print(res)"
      ],
      "metadata": {
        "colab": {
          "base_uri": "https://localhost:8080/"
        },
        "id": "cCgblu5ZSCGn",
        "outputId": "c300cccf-2321-4ebc-d51b-cb5d5591dd64"
      },
      "execution_count": 13,
      "outputs": [
        {
          "output_type": "stream",
          "name": "stdout",
          "text": [
            "```java\n",
            "import java.util.Scanner;\n",
            "\n",
            "public class SumOfNumbers {\n",
            "\n",
            "    public static void main(String[] args) {\n",
            "        Scanner input = new Scanner(System.in);\n",
            "\n",
            "        // Get the number of numbers to sum\n",
            "        System.out.println(\"Enter the number of numbers to sum:\");\n",
            "        int n = input.nextInt();\n",
            "\n",
            "        // Get the numbers to sum\n",
            "        System.out.println(\"Enter the numbers to sum:\");\n",
            "        int[] numbers = new int[n];\n",
            "        for (int i = 0; i < n; i++) {\n",
            "            numbers[i] = input.nextInt();\n",
            "        }\n",
            "\n",
            "        // Sum the numbers\n",
            "        int sum = 0;\n",
            "        for (int number : numbers) {\n",
            "            sum += number;\n",
            "        }\n",
            "\n",
            "        // Print the sum\n",
            "        System.out.println(\"The sum of the numbers is: \" + sum);\n",
            "    }\n",
            "}\n",
            "```\n"
          ]
        }
      ]
    }
  ]
}